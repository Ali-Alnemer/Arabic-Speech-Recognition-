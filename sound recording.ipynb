{
 "cells": [
  {
   "cell_type": "code",
   "execution_count": 82,
   "id": "d40b694a",
   "metadata": {},
   "outputs": [],
   "source": [
    "import sounddevice as sd\n",
    "from scipy.io.wavfile import write"
   ]
  },
  {
   "cell_type": "code",
   "execution_count": 85,
   "id": "737fd981",
   "metadata": {},
   "outputs": [],
   "source": [
    "def record_audio_and_save(save_path, n_times=50):\n",
    "    \n",
    "\n",
    "    input(\"To start recording Wake Word press Enter: \")\n",
    "    for i in range(n_times):\n",
    "        fs = 44100\n",
    "        seconds = 2\n",
    "\n",
    "        myrecording = sd.rec(int(seconds * fs), samplerate=fs, channels=2)\n",
    "        sd.wait()\n",
    "        write(save_path + str(i) + \".wav\", fs, myrecording)\n",
    "        input(f\"Press to record next or two stop press ctrl + C ({i + 1}/{n_times}): \")\n"
   ]
  },
  {
   "cell_type": "code",
   "execution_count": 86,
   "id": "2fdb2d06",
   "metadata": {},
   "outputs": [
    {
     "name": "stdout",
     "output_type": "stream",
     "text": [
      "To start recording Wake Word press Enter: \n",
      "Press to record next or two stop press ctrl + C (1/25): \n",
      "Press to record next or two stop press ctrl + C (2/25): \n",
      "Press to record next or two stop press ctrl + C (3/25): \n",
      "Press to record next or two stop press ctrl + C (4/25): \n",
      "Press to record next or two stop press ctrl + C (5/25): \n",
      "Press to record next or two stop press ctrl + C (6/25): \n",
      "Press to record next or two stop press ctrl + C (7/25): \n",
      "Press to record next or two stop press ctrl + C (8/25): \n",
      "Press to record next or two stop press ctrl + C (9/25): \n",
      "Press to record next or two stop press ctrl + C (10/25): \n",
      "Press to record next or two stop press ctrl + C (11/25): \n",
      "Press to record next or two stop press ctrl + C (12/25): \n",
      "Press to record next or two stop press ctrl + C (13/25): \n",
      "Press to record next or two stop press ctrl + C (14/25): \n",
      "Press to record next or two stop press ctrl + C (15/25): \n",
      "Press to record next or two stop press ctrl + C (16/25): \n",
      "Press to record next or two stop press ctrl + C (17/25): \n",
      "Press to record next or two stop press ctrl + C (18/25): \n",
      "Press to record next or two stop press ctrl + C (19/25): \n",
      "Press to record next or two stop press ctrl + C (20/25): \n",
      "Press to record next or two stop press ctrl + C (21/25): \n",
      "Press to record next or two stop press ctrl + C (22/25): \n",
      "Press to record next or two stop press ctrl + C (23/25): \n",
      "Press to record next or two stop press ctrl + C (24/25): \n",
      "Press to record next or two stop press ctrl + C (25/25): \n"
     ]
    }
   ],
   "source": [
    "record_audio_and_save(\"20/\", n_times=25)"
   ]
  },
  {
   "cell_type": "code",
   "execution_count": null,
   "id": "388490c3",
   "metadata": {},
   "outputs": [],
   "source": []
  }
 ],
 "metadata": {
  "kernelspec": {
   "display_name": "Python 3",
   "language": "python",
   "name": "python3"
  },
  "language_info": {
   "codemirror_mode": {
    "name": "ipython",
    "version": 3
   },
   "file_extension": ".py",
   "mimetype": "text/x-python",
   "name": "python",
   "nbconvert_exporter": "python",
   "pygments_lexer": "ipython3",
   "version": "3.8.8"
  }
 },
 "nbformat": 4,
 "nbformat_minor": 5
}
