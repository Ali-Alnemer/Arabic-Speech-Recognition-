{
 "cells": [
  {
   "cell_type": "code",
   "execution_count": 589,
   "id": "2cdc8adc",
   "metadata": {},
   "outputs": [],
   "source": [
    "import os\n",
    "import librosa\n",
    "import librosa.display\n",
    "import matplotlib.pyplot as plt\n",
    "import numpy as np\n",
    "import pandas as pd\n",
    "import pickle\n",
    "from skimage.restoration import denoise_wavelet\n",
    "import sounddevice as sd"
   ]
  },
  {
   "cell_type": "markdown",
   "id": "d62793cc",
   "metadata": {},
   "source": [
    "# data extracting and processing"
   ]
  },
  {
   "cell_type": "code",
   "execution_count": 590,
   "id": "6974691e",
   "metadata": {},
   "outputs": [
    {
     "name": "stdout",
     "output_type": "stream",
     "text": [
      "22050\n"
     ]
    }
   ],
   "source": [
    "data, sample_rate = librosa.load(walley_sample)\n",
    "print(sample_rate)"
   ]
  },
  {
   "cell_type": "code",
   "execution_count": 706,
   "id": "30cd7336",
   "metadata": {},
   "outputs": [
    {
     "name": "stdout",
     "output_type": "stream",
     "text": [
      "Info: Succesfully Preprocessed Class Label 0\n",
      "Info: Succesfully Preprocessed Class Label 1\n",
      "Info: Succesfully Preprocessed Class Label 2\n",
      "Info: Succesfully Preprocessed Class Label 3\n",
      "Info: Succesfully Preprocessed Class Label 4\n",
      "Info: Succesfully Preprocessed Class Label 5\n",
      "Info: Succesfully Preprocessed Class Label 6\n",
      "Info: Succesfully Preprocessed Class Label 7\n",
      "Info: Succesfully Preprocessed Class Label 8\n",
      "Info: Succesfully Preprocessed Class Label 9\n",
      "Info: Succesfully Preprocessed Class Label 10\n",
      "Info: Succesfully Preprocessed Class Label 11\n",
      "Info: Succesfully Preprocessed Class Label 12\n",
      "Info: Succesfully Preprocessed Class Label 13\n",
      "Info: Succesfully Preprocessed Class Label 14\n",
      "Info: Succesfully Preprocessed Class Label 15\n",
      "Info: Succesfully Preprocessed Class Label 16\n",
      "Info: Succesfully Preprocessed Class Label 17\n",
      "Info: Succesfully Preprocessed Class Label 18\n",
      "Info: Succesfully Preprocessed Class Label 19\n",
      "(44100,)\n",
      "(40,)\n"
     ]
    }
   ],
   "source": [
    "\n",
    "all_data = []\n",
    "\n",
    "data_path_dict = {\n",
    "    0: [\"1/\" + file_path for file_path in os.listdir(\"1/\")],\n",
    "    1: [\"2/\" + file_path for file_path in os.listdir(\"2/\")],\n",
    "    2: [\"3/\" + file_path for file_path in os.listdir(\"3/\")],\n",
    "    3: [\"4/\" + file_path for file_path in os.listdir(\"4/\")],\n",
    "    4: [\"5/\" + file_path for file_path in os.listdir(\"5/\")],\n",
    "    5: [\"6/\" + file_path for file_path in os.listdir(\"6/\")],\n",
    "    6: [\"7/\" + file_path for file_path in os.listdir(\"7/\")],\n",
    "    7: [\"8/\" + file_path for file_path in os.listdir(\"8/\")],\n",
    "    8: [\"9/\" + file_path for file_path in os.listdir(\"9/\")],\n",
    "    9: [\"10/\" + file_path for file_path in os.listdir(\"10/\")],\n",
    "    10: [\"11/\" + file_path for file_path in os.listdir(\"11/\")],\n",
    "    11: [\"12/\" + file_path for file_path in os.listdir(\"12/\")],\n",
    "    12: [\"13/\" + file_path for file_path in os.listdir(\"13/\")],\n",
    "    13: [\"14/\" + file_path for file_path in os.listdir(\"14/\")],\n",
    "    14: [\"15/\" + file_path for file_path in os.listdir(\"15/\")],\n",
    "    15: [\"16/\" + file_path for file_path in os.listdir(\"16/\")],\n",
    "    16: [\"17/\" + file_path for file_path in os.listdir(\"17/\")],\n",
    "    17: [\"18/\" + file_path for file_path in os.listdir(\"18/\")],\n",
    "    18: [\"19/\" + file_path for file_path in os.listdir(\"19/\")],\n",
    "    19: [\"20/\" + file_path for file_path in os.listdir(\"20/\")]\n",
    "    \n",
    "}\n",
    "\n",
    "\n",
    "for class_label, list_of_files in data_path_dict.items():\n",
    "    for single_file in list_of_files:\n",
    "        audio, sample_rate = librosa.load(single_file) \n",
    "        audio = denoise_wavelet(audio, method = 'BayesShrink', mode = 'soft', wavelet_levels = 10, wavelet = 'db8', rescale_sigma='True')\n",
    "        mfcc = librosa.feature.mfcc(y=audio, sr=sample_rate, n_mfcc=40) \n",
    "        mfcc_processed = np.mean(mfcc.T, axis=0) \n",
    "        all_data.append([mfcc_processed, class_label])\n",
    "    print(f\"Info: Succesfully Preprocessed Class Label {class_label}\")\n",
    "\n",
    "df = pd.DataFrame(all_data, columns=[\"feature\", \"class_label\"])\n",
    "\n",
    "print(audio.shape)\n",
    "print(mfcc_processed.shape)"
   ]
  },
  {
   "cell_type": "code",
   "execution_count": 694,
   "id": "b687deb3",
   "metadata": {},
   "outputs": [],
   "source": [
    "filename = 'data1'\n",
    "outfile = open(filename,'wb')\n",
    "pickle.dump(df,outfile)\n",
    "outfile.close()"
   ]
  },
  {
   "cell_type": "markdown",
   "id": "f45042c6",
   "metadata": {},
   "source": [
    "# training model"
   ]
  },
  {
   "cell_type": "code",
   "execution_count": 695,
   "id": "04db2c3c",
   "metadata": {},
   "outputs": [],
   "source": [
    "infile = open('data1','rb')\n",
    "df = pickle.load(infile)\n",
    "infile.close()\n"
   ]
  },
  {
   "cell_type": "code",
   "execution_count": 707,
   "id": "151b4ccb",
   "metadata": {},
   "outputs": [],
   "source": [
    "X = df[\"feature\"].values\n",
    "X = np.concatenate(X, axis=0).reshape(len(X), 40)\n",
    "y = np.array(df[\"class_label\"].tolist())\n"
   ]
  },
  {
   "cell_type": "code",
   "execution_count": 708,
   "id": "382b0c8e",
   "metadata": {},
   "outputs": [],
   "source": [
    "from sklearn.model_selection import train_test_split\n",
    "xtrain, xtest, ytrain, ytest = train_test_split(X, y, test_size = 0.2)"
   ]
  },
  {
   "cell_type": "code",
   "execution_count": 709,
   "id": "6f2ec015",
   "metadata": {},
   "outputs": [],
   "source": [
    "from sklearn.svm import SVC\n",
    "from sklearn.decomposition import PCA as RandomizedPCA\n",
    "from sklearn.pipeline import make_pipeline\n",
    "from sklearn.metrics import confusion_matrix"
   ]
  },
  {
   "cell_type": "code",
   "execution_count": 710,
   "id": "3370bcde",
   "metadata": {},
   "outputs": [
    {
     "data": {
      "text/plain": [
       "SVC(C=1, gamma='auto', kernel='linear')"
      ]
     },
     "execution_count": 710,
     "metadata": {},
     "output_type": "execute_result"
    }
   ],
   "source": [
    "model = SVC(C=1, kernel='linear', gamma='auto')\n",
    "\n",
    "model.fit(xtrain, ytrain)\n",
    "\n"
   ]
  },
  {
   "cell_type": "code",
   "execution_count": 711,
   "id": "732834da",
   "metadata": {},
   "outputs": [
    {
     "name": "stdout",
     "output_type": "stream",
     "text": [
      "accuracy: 0.97 \n",
      "\n",
      "[[2 0 0 0 0 0 0 0 0 0 0 0 0 0 0 0 0 0 0]\n",
      " [0 8 1 0 0 0 0 0 0 0 0 0 0 0 0 0 0 0 0]\n",
      " [0 0 2 0 0 0 0 0 0 0 0 0 0 0 0 0 0 0 0]\n",
      " [0 0 0 3 0 0 0 0 0 0 0 0 0 0 0 0 0 0 0]\n",
      " [0 0 0 0 8 0 0 0 0 0 0 0 0 0 0 0 0 0 0]\n",
      " [0 0 0 0 0 5 0 0 0 0 0 0 0 0 0 0 0 0 0]\n",
      " [0 0 0 0 0 0 5 0 0 0 0 0 0 0 0 0 0 0 0]\n",
      " [0 0 0 0 0 0 0 5 0 0 1 0 0 0 0 0 0 1 0]\n",
      " [0 0 0 0 0 0 0 0 8 0 0 0 0 0 0 0 0 0 0]\n",
      " [0 0 0 0 0 0 0 0 0 9 0 0 0 0 0 0 0 0 0]\n",
      " [0 0 0 0 0 0 0 0 0 0 4 0 0 0 0 0 0 0 0]\n",
      " [0 0 0 0 0 0 0 0 0 0 0 5 0 0 0 0 0 0 0]\n",
      " [0 0 0 0 0 0 0 0 0 0 0 0 4 0 0 0 0 0 0]\n",
      " [0 0 0 0 0 0 0 0 0 0 0 0 0 3 0 0 0 0 0]\n",
      " [0 0 0 0 0 0 0 0 0 0 0 0 0 0 5 0 0 0 0]\n",
      " [0 0 0 0 0 0 0 0 0 0 0 0 0 0 0 6 0 0 0]\n",
      " [0 0 0 0 0 0 0 0 0 0 0 0 0 0 0 0 3 0 0]\n",
      " [0 0 0 0 0 0 0 0 0 0 0 0 0 0 0 0 0 8 0]\n",
      " [0 0 0 0 0 0 0 0 0 0 0 0 0 0 0 0 0 0 4]]\n"
     ]
    }
   ],
   "source": [
    "y_pred = model.predict(xtest)\n",
    "\n",
    "from sklearn import metrics\n",
    "from sklearn.metrics import confusion_matrix\n",
    "print(\"accuracy:\", metrics.accuracy_score(y_true=ytest, y_pred=y_pred), \"\\n\")\n",
    "\n",
    "print(metrics.confusion_matrix(y_true=ytest, y_pred=y_pred))"
   ]
  },
  {
   "cell_type": "code",
   "execution_count": 701,
   "id": "981fc690",
   "metadata": {},
   "outputs": [],
   "source": [
    "\n",
    "filename = 'model 1'\n",
    "outfile = open(filename,'wb')\n",
    "pickle.dump(model,outfile)\n",
    "outfile.close()"
   ]
  },
  {
   "cell_type": "markdown",
   "id": "d8f59b8d",
   "metadata": {},
   "source": [
    "# prediction"
   ]
  },
  {
   "cell_type": "code",
   "execution_count": 702,
   "id": "157a18e9",
   "metadata": {},
   "outputs": [],
   "source": [
    "infile = open('model 1','rb')\n",
    "model = pickle.load(infile)\n",
    "infile.close()\n"
   ]
  },
  {
   "cell_type": "code",
   "execution_count": 712,
   "id": "3b21dd7e",
   "metadata": {},
   "outputs": [],
   "source": [
    "cc = np.array(['اهلا' , 'مرحبا' , 'سلام', 'رمضان' , 'سكر' , 'برتقال' , 'تفاح' , 'عنب' , 'ليمون' , 'أسد' , 'نمر' , 'دب' , 'فهد' , 'اصفر' , 'غزال' , 'قرد' , 'احمر' , 'يد' , 'قدم' , 'راس' ])\n"
   ]
  },
  {
   "cell_type": "code",
   "execution_count": 713,
   "id": "e92ff722",
   "metadata": {},
   "outputs": [],
   "source": [
    "def record_audio(n_times=50):\n",
    "    \n",
    "\n",
    "    input(\"To start recording Wake Word press Enter: \")\n",
    "    for i in range(n_times):\n",
    "        fs = 44100\n",
    "        seconds = 2\n",
    "\n",
    "        myrecording = sd.rec(int(seconds * fs), samplerate=fs, channels=2)\n",
    "        sd.wait()\n",
    "        write('vv/' + str(1) + \".wav\", fs, myrecording)\n",
    "        \n",
    "        \n",
    "        audio, sample_rate = librosa.load(\"vv/1.wav\")\n",
    "        audio = denoise_wavelet(audio, method = 'BayesShrink', mode = 'soft', wavelet_levels = 10, wavelet = 'db8', rescale_sigma='True')\n",
    "        mfcc = librosa.feature.mfcc(y=audio, sr=sample_rate, n_mfcc=40) \n",
    "        mfcc_processed = np.mean(mfcc.T, axis=0).reshape(1,40)\n",
    "       \n",
    "        \n",
    "        result=model.predict(mfcc_processed)\n",
    "      \n",
    "        print(cc[result])\n",
    "        input(f\"Press to record next or two stop press ctrl + C ({i + 1}/{n_times}): \")\n",
    "        \n"
   ]
  },
  {
   "cell_type": "code",
   "execution_count": null,
   "id": "e296b6c1",
   "metadata": {},
   "outputs": [
    {
     "name": "stdout",
     "output_type": "stream",
     "text": [
      "To start recording Wake Word press Enter: \n",
      "['اصفر']\n",
      "Press to record next or two stop press ctrl + C (1/25): \n",
      "['اصفر']\n",
      "Press to record next or two stop press ctrl + C (2/25): \n",
      "['سلام']\n",
      "Press to record next or two stop press ctrl + C (3/25): \n",
      "['اصفر']\n",
      "Press to record next or two stop press ctrl + C (4/25): \n",
      "['تفاح']\n",
      "Press to record next or two stop press ctrl + C (5/25): \n",
      "['أسد']\n",
      "Press to record next or two stop press ctrl + C (6/25): \n",
      "['سكر']\n",
      "Press to record next or two stop press ctrl + C (7/25): \n",
      "['اصفر']\n",
      "Press to record next or two stop press ctrl + C (8/25): \n",
      "['مرحبا']\n",
      "Press to record next or two stop press ctrl + C (9/25): \n",
      "['سكر']\n",
      "Press to record next or two stop press ctrl + C (10/25): \n",
      "['تفاح']\n",
      "Press to record next or two stop press ctrl + C (11/25): \n",
      "['سكر']\n",
      "Press to record next or two stop press ctrl + C (12/25): \n",
      "['تفاح']\n",
      "Press to record next or two stop press ctrl + C (13/25): \n",
      "['أسد']\n",
      "Press to record next or two stop press ctrl + C (14/25): \n",
      "['عنب']\n",
      "Press to record next or two stop press ctrl + C (15/25): \n",
      "['عنب']\n",
      "Press to record next or two stop press ctrl + C (16/25): \n",
      "['ليمون']\n",
      "Press to record next or two stop press ctrl + C (17/25): \n",
      "['ليمون']\n",
      "Press to record next or two stop press ctrl + C (18/25): \n",
      "['ليمون']\n",
      "Press to record next or two stop press ctrl + C (19/25): \n",
      "['ليمون']\n",
      "Press to record next or two stop press ctrl + C (20/25): \n",
      "['ليمون']\n",
      "Press to record next or two stop press ctrl + C (21/25): \n",
      "['ليمون']\n",
      "Press to record next or two stop press ctrl + C (22/25): \n",
      "['سكر']\n",
      "Press to record next or two stop press ctrl + C (23/25): \n",
      "['ليمون']\n"
     ]
    }
   ],
   "source": [
    "record_audio(n_times=25)"
   ]
  },
  {
   "cell_type": "code",
   "execution_count": null,
   "id": "cb1346b3",
   "metadata": {},
   "outputs": [],
   "source": []
  }
 ],
 "metadata": {
  "kernelspec": {
   "display_name": "Python 3",
   "language": "python",
   "name": "python3"
  },
  "language_info": {
   "codemirror_mode": {
    "name": "ipython",
    "version": 3
   },
   "file_extension": ".py",
   "mimetype": "text/x-python",
   "name": "python",
   "nbconvert_exporter": "python",
   "pygments_lexer": "ipython3",
   "version": "3.8.8"
  }
 },
 "nbformat": 4,
 "nbformat_minor": 5
}
